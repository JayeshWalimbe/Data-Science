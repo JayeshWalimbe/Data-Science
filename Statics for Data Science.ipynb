{
 "cells": [
  {
   "cell_type": "markdown",
   "id": "7bfd43ca-7957-47da-8d6f-67ccd3d890b9",
   "metadata": {},
   "source": [
    "# 1]Central Limit Theoram"
   ]
  },
  {
   "cell_type": "code",
   "execution_count": 2,
   "id": "f125460d-37ec-4ee4-bdf1-53aec7aba4b4",
   "metadata": {},
   "outputs": [],
   "source": [
    "import pandas as pd\n",
    "import numpy as np\n",
    "import matplotlib.pyplot as plt"
   ]
  },
  {
   "cell_type": "markdown",
   "id": "7fdb3d6a-cc15-4aea-a5f0-ce17b076ae7f",
   "metadata": {},
   "source": [
    "## Genral Example "
   ]
  },
  {
   "cell_type": "code",
   "execution_count": 3,
   "id": "2ea90970-0ba1-4c70-afc5-cc7e53ea4da6",
   "metadata": {},
   "outputs": [],
   "source": [
    "x = np.random.randint(10,70,100000) # 10-- lower limit, 70-- upper limit  and 100000 -- total no. of data points "
   ]
  },
  {
   "cell_type": "code",
   "execution_count": 4,
   "id": "7cc66a53-ae5c-402d-bf92-9c62efefff1c",
   "metadata": {},
   "outputs": [
    {
     "data": {
      "text/plain": [
       "array([24, 42, 64, ..., 33, 57, 30])"
      ]
     },
     "execution_count": 4,
     "metadata": {},
     "output_type": "execute_result"
    }
   ],
   "source": [
    "x"
   ]
  },
  {
   "cell_type": "code",
   "execution_count": 5,
   "id": "b8fec7f6-128c-47de-84d1-c99613df4f5e",
   "metadata": {},
   "outputs": [],
   "source": [
    "means_of_samples = []   # we want to find outout the mean to 10 times "
   ]
  },
  {
   "cell_type": "code",
   "execution_count": 6,
   "id": "358943b6-37ce-47ce-adca-f9ee09c9563e",
   "metadata": {},
   "outputs": [],
   "source": [
    "for i in range(1,1000):                            # 1-- starting array, 10- ending array \n",
    "    sample =np.random.choice(x,100)              # x-- array from we select sample,  100 -- sample size \n",
    "    means_of_samples.append(np.mean(sample))     # mean of sample , and it append to the list means_of_sample "
   ]
  },
  {
   "cell_type": "code",
   "execution_count": 7,
   "id": "7fd4d233-a7a8-40bc-8b34-f80427dcb10d",
   "metadata": {},
   "outputs": [
    {
     "data": {
      "text/plain": [
       "(array([  5.,  17.,  71., 196., 242., 260., 150.,  43.,  11.,   4.]),\n",
       " array([33.59 , 34.826, 36.062, 37.298, 38.534, 39.77 , 41.006, 42.242,\n",
       "        43.478, 44.714, 45.95 ]),\n",
       " <BarContainer object of 10 artists>)"
      ]
     },
     "execution_count": 7,
     "metadata": {},
     "output_type": "execute_result"
    },
    {
     "data": {
      "image/png": "[encoded data removed]",
      "text/plain": [
       "<Figure size 640x480 with 1 Axes>"
      ]
     },
     "metadata": {},
     "output_type": "display_data"
    }
   ],
   "source": [
    "plt.hist(means_of_samples)"
   ]
  },
  {
   "cell_type": "code",
   "execution_count": 8,
   "id": "3798f997-cf63-412f-8a59-cf435cd84e03",
   "metadata": {},
   "outputs": [
    {
     "data": {
      "text/plain": [
       "39.56143"
      ]
     },
     "execution_count": 8,
     "metadata": {},
     "output_type": "execute_result"
    }
   ],
   "source": [
    "np.mean(x)"
   ]
  },
  {
   "cell_type": "code",
   "execution_count": 9,
   "id": "280db31b-cba4-440b-8a2e-f67bfb87a2c9",
   "metadata": {},
   "outputs": [
    {
     "data": {
      "text/plain": [
       "39.58196196196196"
      ]
     },
     "execution_count": 9,
     "metadata": {},
     "output_type": "execute_result"
    }
   ],
   "source": [
    "np.mean(means_of_samples)"
   ]
  },
  {
   "cell_type": "code",
   "execution_count": null,
   "id": "2f8811da-b73c-41ed-90eb-b20f7429e414",
   "metadata": {},
   "outputs": [],
   "source": []
  },
  {
   "cell_type": "markdown",
   "id": "c25d5a5f-3b78-4383-a675-e6a84dd060f3",
   "metadata": {},
   "source": [
    "## Applied Central Limit Theroram on infer_stats dataset to find average SalePrice"
   ]
  },
  {
   "cell_type": "code",
   "execution_count": null,
   "id": "4a3146d2-7970-460e-8a80-853cd33a397d",
   "metadata": {},
   "outputs": [],
   "source": []
  },
  {
   "cell_type": "code",
   "execution_count": 10,
   "id": "9bccfc3c-307b-4047-be39-6f7e758862cd",
   "metadata": {},
   "outputs": [],
   "source": [
    "data=pd.read_csv(\"infer_stats (1).csv\")"
   ]
  },
  {
   "cell_type": "code",
   "execution_count": 11,
   "id": "a2bb88a5-925c-40bb-972c-3a15b49a2329",
   "metadata": {},
   "outputs": [
    {
     "data": {
      "text/html": [
       "<div>\n",
       "<style scoped>\n",
       "    .dataframe tbody tr th:only-of-type {\n",
       "        vertical-align: middle;\n",
       "    }\n",
       "\n",
       "    .dataframe tbody tr th {\n",
       "        vertical-align: top;\n",
       "    }\n",
       "\n",
       "    .dataframe thead th {\n",
       "        text-align: right;\n",
       "    }\n",
       "</style>\n",
       "<table border=\"1\" class=\"dataframe\">\n",
       "  <thead>\n",
       "    <tr style=\"text-align: right;\">\n",
       "      <th></th>\n",
       "      <th>Order</th>\n",
       "      <th>PID</th>\n",
       "      <th>MS.SubClass</th>\n",
       "      <th>MS.Zoning</th>\n",
       "      <th>Lot.Frontage</th>\n",
       "      <th>Lot.Area</th>\n",
       "      <th>Street</th>\n",
       "      <th>Alley</th>\n",
       "      <th>Lot.Shape</th>\n",
       "      <th>Land.Contour</th>\n",
       "      <th>...</th>\n",
       "      <th>Pool.Area</th>\n",
       "      <th>Pool.QC</th>\n",
       "      <th>Fence</th>\n",
       "      <th>Misc.Feature</th>\n",
       "      <th>Misc.Val</th>\n",
       "      <th>Mo.Sold</th>\n",
       "      <th>Yr.Sold</th>\n",
       "      <th>Sale.Type</th>\n",
       "      <th>Sale.Condition</th>\n",
       "      <th>SalePrice</th>\n",
       "    </tr>\n",
       "  </thead>\n",
       "  <tbody>\n",
       "    <tr>\n",
       "      <th>0</th>\n",
       "      <td>1</td>\n",
       "      <td>526301100</td>\n",
       "      <td>20</td>\n",
       "      <td>RL</td>\n",
       "      <td>141.0</td>\n",
       "      <td>31770</td>\n",
       "      <td>Pave</td>\n",
       "      <td>NaN</td>\n",
       "      <td>IR1</td>\n",
       "      <td>Lvl</td>\n",
       "      <td>...</td>\n",
       "      <td>0</td>\n",
       "      <td>NaN</td>\n",
       "      <td>NaN</td>\n",
       "      <td>NaN</td>\n",
       "      <td>0</td>\n",
       "      <td>5</td>\n",
       "      <td>2010</td>\n",
       "      <td>WD</td>\n",
       "      <td>Normal</td>\n",
       "      <td>215000</td>\n",
       "    </tr>\n",
       "    <tr>\n",
       "      <th>1</th>\n",
       "      <td>2</td>\n",
       "      <td>526350040</td>\n",
       "      <td>20</td>\n",
       "      <td>RH</td>\n",
       "      <td>80.0</td>\n",
       "      <td>11622</td>\n",
       "      <td>Pave</td>\n",
       "      <td>NaN</td>\n",
       "      <td>Reg</td>\n",
       "      <td>Lvl</td>\n",
       "      <td>...</td>\n",
       "      <td>0</td>\n",
       "      <td>NaN</td>\n",
       "      <td>MnPrv</td>\n",
       "      <td>NaN</td>\n",
       "      <td>0</td>\n",
       "      <td>6</td>\n",
       "      <td>2010</td>\n",
       "      <td>WD</td>\n",
       "      <td>Normal</td>\n",
       "      <td>105000</td>\n",
       "    </tr>\n",
       "    <tr>\n",
       "      <th>2</th>\n",
       "      <td>3</td>\n",
       "      <td>526351010</td>\n",
       "      <td>20</td>\n",
       "      <td>RL</td>\n",
       "      <td>81.0</td>\n",
       "      <td>14267</td>\n",
       "      <td>Pave</td>\n",
       "      <td>NaN</td>\n",
       "      <td>IR1</td>\n",
       "      <td>Lvl</td>\n",
       "      <td>...</td>\n",
       "      <td>0</td>\n",
       "      <td>NaN</td>\n",
       "      <td>NaN</td>\n",
       "      <td>Gar2</td>\n",
       "      <td>12500</td>\n",
       "      <td>6</td>\n",
       "      <td>2010</td>\n",
       "      <td>WD</td>\n",
       "      <td>Normal</td>\n",
       "      <td>172000</td>\n",
       "    </tr>\n",
       "    <tr>\n",
       "      <th>3</th>\n",
       "      <td>4</td>\n",
       "      <td>526353030</td>\n",
       "      <td>20</td>\n",
       "      <td>RL</td>\n",
       "      <td>93.0</td>\n",
       "      <td>11160</td>\n",
       "      <td>Pave</td>\n",
       "      <td>NaN</td>\n",
       "      <td>Reg</td>\n",
       "      <td>Lvl</td>\n",
       "      <td>...</td>\n",
       "      <td>0</td>\n",
       "      <td>NaN</td>\n",
       "      <td>NaN</td>\n",
       "      <td>NaN</td>\n",
       "      <td>0</td>\n",
       "      <td>4</td>\n",
       "      <td>2010</td>\n",
       "      <td>WD</td>\n",
       "      <td>Normal</td>\n",
       "      <td>244000</td>\n",
       "    </tr>\n",
       "    <tr>\n",
       "      <th>4</th>\n",
       "      <td>5</td>\n",
       "      <td>527105010</td>\n",
       "      <td>60</td>\n",
       "      <td>RL</td>\n",
       "      <td>74.0</td>\n",
       "      <td>13830</td>\n",
       "      <td>Pave</td>\n",
       "      <td>NaN</td>\n",
       "      <td>IR1</td>\n",
       "      <td>Lvl</td>\n",
       "      <td>...</td>\n",
       "      <td>0</td>\n",
       "      <td>NaN</td>\n",
       "      <td>MnPrv</td>\n",
       "      <td>NaN</td>\n",
       "      <td>0</td>\n",
       "      <td>3</td>\n",
       "      <td>2010</td>\n",
       "      <td>WD</td>\n",
       "      <td>Normal</td>\n",
       "      <td>189900</td>\n",
       "    </tr>\n",
       "  </tbody>\n",
       "</table>\n",
       "<p>5 rows × 82 columns</p>\n",
       "</div>"
      ],
      "text/plain": [
       "   Order        PID  MS.SubClass MS.Zoning  Lot.Frontage  Lot.Area Street  \\\n",
       "0      1  526301100           20        RL         141.0     31770   Pave   \n",
       "1      2  526350040           20        RH          80.0     11622   Pave   \n",
       "2      3  526351010           20        RL          81.0     14267   Pave   \n",
       "3      4  526353030           20        RL          93.0     11160   Pave   \n",
       "4      5  527105010           60        RL          74.0     13830   Pave   \n",
       "\n",
       "  Alley Lot.Shape Land.Contour  ... Pool.Area Pool.QC  Fence Misc.Feature  \\\n",
       "0   NaN       IR1          Lvl  ...         0     NaN    NaN          NaN   \n",
       "1   NaN       Reg          Lvl  ...         0     NaN  MnPrv          NaN   \n",
       "2   NaN       IR1          Lvl  ...         0     NaN    NaN         Gar2   \n",
       "3   NaN       Reg          Lvl  ...         0     NaN    NaN          NaN   \n",
       "4   NaN       IR1          Lvl  ...         0     NaN  MnPrv          NaN   \n",
       "\n",
       "  Misc.Val Mo.Sold Yr.Sold Sale.Type  Sale.Condition  SalePrice  \n",
       "0        0       5    2010       WD           Normal     215000  \n",
       "1        0       6    2010       WD           Normal     105000  \n",
       "2    12500       6    2010       WD           Normal     172000  \n",
       "3        0       4    2010       WD           Normal     244000  \n",
       "4        0       3    2010       WD           Normal     189900  \n",
       "\n",
       "[5 rows x 82 columns]"
      ]
     },
     "execution_count": 11,
     "metadata": {},
     "output_type": "execute_result"
    }
   ],
   "source": [
    "data.head()"
   ]
  },
  {
   "cell_type": "code",
   "execution_count": 12,
   "id": "f0b977b6-6c7d-41d1-b05c-e055b0de2944",
   "metadata": {},
   "outputs": [
    {
     "data": {
      "text/html": [
       "<div>\n",
       "<style scoped>\n",
       "    .dataframe tbody tr th:only-of-type {\n",
       "        vertical-align: middle;\n",
       "    }\n",
       "\n",
       "    .dataframe tbody tr th {\n",
       "        vertical-align: top;\n",
       "    }\n",
       "\n",
       "    .dataframe thead th {\n",
       "        text-align: right;\n",
       "    }\n",
       "</style>\n",
       "<table border=\"1\" class=\"dataframe\">\n",
       "  <thead>\n",
       "    <tr style=\"text-align: right;\">\n",
       "      <th></th>\n",
       "      <th>Order</th>\n",
       "      <th>PID</th>\n",
       "      <th>MS.SubClass</th>\n",
       "      <th>MS.Zoning</th>\n",
       "      <th>Lot.Frontage</th>\n",
       "      <th>Lot.Area</th>\n",
       "      <th>Street</th>\n",
       "      <th>Alley</th>\n",
       "      <th>Lot.Shape</th>\n",
       "      <th>Land.Contour</th>\n",
       "      <th>...</th>\n",
       "      <th>Pool.Area</th>\n",
       "      <th>Pool.QC</th>\n",
       "      <th>Fence</th>\n",
       "      <th>Misc.Feature</th>\n",
       "      <th>Misc.Val</th>\n",
       "      <th>Mo.Sold</th>\n",
       "      <th>Yr.Sold</th>\n",
       "      <th>Sale.Type</th>\n",
       "      <th>Sale.Condition</th>\n",
       "      <th>SalePrice</th>\n",
       "    </tr>\n",
       "  </thead>\n",
       "  <tbody>\n",
       "    <tr>\n",
       "      <th>2925</th>\n",
       "      <td>2926</td>\n",
       "      <td>923275080</td>\n",
       "      <td>80</td>\n",
       "      <td>RL</td>\n",
       "      <td>37.0</td>\n",
       "      <td>7937</td>\n",
       "      <td>Pave</td>\n",
       "      <td>NaN</td>\n",
       "      <td>IR1</td>\n",
       "      <td>Lvl</td>\n",
       "      <td>...</td>\n",
       "      <td>0</td>\n",
       "      <td>NaN</td>\n",
       "      <td>GdPrv</td>\n",
       "      <td>NaN</td>\n",
       "      <td>0</td>\n",
       "      <td>3</td>\n",
       "      <td>2006</td>\n",
       "      <td>WD</td>\n",
       "      <td>Normal</td>\n",
       "      <td>142500</td>\n",
       "    </tr>\n",
       "    <tr>\n",
       "      <th>2926</th>\n",
       "      <td>2927</td>\n",
       "      <td>923276100</td>\n",
       "      <td>20</td>\n",
       "      <td>RL</td>\n",
       "      <td>NaN</td>\n",
       "      <td>8885</td>\n",
       "      <td>Pave</td>\n",
       "      <td>NaN</td>\n",
       "      <td>IR1</td>\n",
       "      <td>Low</td>\n",
       "      <td>...</td>\n",
       "      <td>0</td>\n",
       "      <td>NaN</td>\n",
       "      <td>MnPrv</td>\n",
       "      <td>NaN</td>\n",
       "      <td>0</td>\n",
       "      <td>6</td>\n",
       "      <td>2006</td>\n",
       "      <td>WD</td>\n",
       "      <td>Normal</td>\n",
       "      <td>131000</td>\n",
       "    </tr>\n",
       "    <tr>\n",
       "      <th>2927</th>\n",
       "      <td>2928</td>\n",
       "      <td>923400125</td>\n",
       "      <td>85</td>\n",
       "      <td>RL</td>\n",
       "      <td>62.0</td>\n",
       "      <td>10441</td>\n",
       "      <td>Pave</td>\n",
       "      <td>NaN</td>\n",
       "      <td>Reg</td>\n",
       "      <td>Lvl</td>\n",
       "      <td>...</td>\n",
       "      <td>0</td>\n",
       "      <td>NaN</td>\n",
       "      <td>MnPrv</td>\n",
       "      <td>Shed</td>\n",
       "      <td>700</td>\n",
       "      <td>7</td>\n",
       "      <td>2006</td>\n",
       "      <td>WD</td>\n",
       "      <td>Normal</td>\n",
       "      <td>132000</td>\n",
       "    </tr>\n",
       "    <tr>\n",
       "      <th>2928</th>\n",
       "      <td>2929</td>\n",
       "      <td>924100070</td>\n",
       "      <td>20</td>\n",
       "      <td>RL</td>\n",
       "      <td>77.0</td>\n",
       "      <td>10010</td>\n",
       "      <td>Pave</td>\n",
       "      <td>NaN</td>\n",
       "      <td>Reg</td>\n",
       "      <td>Lvl</td>\n",
       "      <td>...</td>\n",
       "      <td>0</td>\n",
       "      <td>NaN</td>\n",
       "      <td>NaN</td>\n",
       "      <td>NaN</td>\n",
       "      <td>0</td>\n",
       "      <td>4</td>\n",
       "      <td>2006</td>\n",
       "      <td>WD</td>\n",
       "      <td>Normal</td>\n",
       "      <td>170000</td>\n",
       "    </tr>\n",
       "    <tr>\n",
       "      <th>2929</th>\n",
       "      <td>2930</td>\n",
       "      <td>924151050</td>\n",
       "      <td>60</td>\n",
       "      <td>RL</td>\n",
       "      <td>74.0</td>\n",
       "      <td>9627</td>\n",
       "      <td>Pave</td>\n",
       "      <td>NaN</td>\n",
       "      <td>Reg</td>\n",
       "      <td>Lvl</td>\n",
       "      <td>...</td>\n",
       "      <td>0</td>\n",
       "      <td>NaN</td>\n",
       "      <td>NaN</td>\n",
       "      <td>NaN</td>\n",
       "      <td>0</td>\n",
       "      <td>11</td>\n",
       "      <td>2006</td>\n",
       "      <td>WD</td>\n",
       "      <td>Normal</td>\n",
       "      <td>188000</td>\n",
       "    </tr>\n",
       "  </tbody>\n",
       "</table>\n",
       "<p>5 rows × 82 columns</p>\n",
       "</div>"
      ],
      "text/plain": [
       "      Order        PID  MS.SubClass MS.Zoning  Lot.Frontage  Lot.Area Street  \\\n",
       "2925   2926  923275080           80        RL          37.0      7937   Pave   \n",
       "2926   2927  923276100           20        RL           NaN      8885   Pave   \n",
       "2927   2928  923400125           85        RL          62.0     10441   Pave   \n",
       "2928   2929  924100070           20        RL          77.0     10010   Pave   \n",
       "2929   2930  924151050           60        RL          74.0      9627   Pave   \n",
       "\n",
       "     Alley Lot.Shape Land.Contour  ... Pool.Area Pool.QC  Fence Misc.Feature  \\\n",
       "2925   NaN       IR1          Lvl  ...         0     NaN  GdPrv          NaN   \n",
       "2926   NaN       IR1          Low  ...         0     NaN  MnPrv          NaN   \n",
       "2927   NaN       Reg          Lvl  ...         0     NaN  MnPrv         Shed   \n",
       "2928   NaN       Reg          Lvl  ...         0     NaN    NaN          NaN   \n",
       "2929   NaN       Reg          Lvl  ...         0     NaN    NaN          NaN   \n",
       "\n",
       "     Misc.Val Mo.Sold Yr.Sold Sale.Type  Sale.Condition  SalePrice  \n",
       "2925        0       3    2006       WD           Normal     142500  \n",
       "2926        0       6    2006       WD           Normal     131000  \n",
       "2927      700       7    2006       WD           Normal     132000  \n",
       "2928        0       4    2006       WD           Normal     170000  \n",
       "2929        0      11    2006       WD           Normal     188000  \n",
       "\n",
       "[5 rows x 82 columns]"
      ]
     },
     "execution_count": 12,
     "metadata": {},
     "output_type": "execute_result"
    }
   ],
   "source": [
    "data.tail()"
   ]
  },
  {
   "cell_type": "code",
   "execution_count": 13,
   "id": "e9685eb0-ef2e-44b6-b256-520c83101fda",
   "metadata": {},
   "outputs": [
    {
     "data": {
      "text/plain": [
       "(2930, 82)"
      ]
     },
     "execution_count": 13,
     "metadata": {},
     "output_type": "execute_result"
    }
   ],
   "source": [
    "data.shape"
   ]
  },
  {
   "cell_type": "code",
   "execution_count": 14,
   "id": "dbaf139f-5915-40d7-ade0-d79bc01b01db",
   "metadata": {},
   "outputs": [],
   "source": [
    "mean_of_sampel=[]"
   ]
  },
  {
   "cell_type": "code",
   "execution_count": 15,
   "id": "660f904a-bf2d-497b-954c-6d6dcd896558",
   "metadata": {},
   "outputs": [],
   "source": [
    "for i in range(1,100):\n",
    "    sample=np.random.choice(data[\"SalePrice\"],100)\n",
    "    mean_of_sampel.append(np.mean(sample))"
   ]
  },
  {
   "cell_type": "code",
   "execution_count": 75,
   "id": "3e9b6d72-4a7e-4f02-8c15-e785ffd97f83",
   "metadata": {},
   "outputs": [
    {
     "data": {
      "text/plain": [
       "(array([ 10.,  64., 123., 207., 224., 196., 107.,  42.,  22.,   4.]),\n",
       " array([159978.75 , 164728.163, 169477.576, 174226.989, 178976.402,\n",
       "        183725.815, 188475.228, 193224.641, 197974.054, 202723.467,\n",
       "        207472.88 ]),\n",
       " <BarContainer object of 10 artists>)"
      ]
     },
     "execution_count": 75,
     "metadata": {},
     "output_type": "execute_result"
    },
    {
     "data": {
      "image/png": "[encoded data removed]",
      "text/plain": [
       "<Figure size 640x480 with 1 Axes>"
      ]
     },
     "metadata": {},
     "output_type": "display_data"
    }
   ],
   "source": [
    "plt.hist(mean_of_sampel)"
   ]
  },
  {
   "cell_type": "code",
   "execution_count": 16,
   "id": "d049dbc8-599f-4c13-90a8-e5823b71e852",
   "metadata": {},
   "outputs": [
    {
     "data": {
      "text/plain": [
       "179422.64141414143"
      ]
     },
     "execution_count": 16,
     "metadata": {},
     "output_type": "execute_result"
    }
   ],
   "source": [
    "np.mean(mean_of_sampel)"
   ]
  },
  {
   "cell_type": "code",
   "execution_count": 17,
   "id": "43ab1950-8110-47cc-bf63-0700aa749696",
   "metadata": {},
   "outputs": [
    {
     "data": {
      "text/plain": [
       "180796.0600682594"
      ]
     },
     "execution_count": 17,
     "metadata": {},
     "output_type": "execute_result"
    }
   ],
   "source": [
    "np.mean(data[\"SalePrice\"])"
   ]
  },
  {
   "cell_type": "markdown",
   "id": "a82cb4ed-5f01-4f1b-8597-74391dae2220",
   "metadata": {},
   "source": [
    "### insight -- if we take the 100 sample then average home price is 181820.02 and actul population average price is 180796.06\n",
    "\n",
    "### If we increase the sample size then sample mean is also close to to the population means "
   ]
  },
  {
   "cell_type": "code",
   "execution_count": null,
   "id": "01a8a8ec-a35a-45fd-80b0-3a20b9f6cd3f",
   "metadata": {},
   "outputs": [],
   "source": []
  },
  {
   "cell_type": "markdown",
   "id": "7c8491cc-aa34-4c57-8e89-0deb54142963",
   "metadata": {},
   "source": [
    "# 2]Confidence Interval"
   ]
  },
  {
   "cell_type": "code",
   "execution_count": 18,
   "id": "c1ceff6e-5af6-45bc-88a1-55c2473a0fc2",
   "metadata": {},
   "outputs": [],
   "source": [
    "sample_size=100"
   ]
  },
  {
   "cell_type": "code",
   "execution_count": 19,
   "id": "4ad9ff4c-8616-4953-b378-af2123806f96",
   "metadata": {},
   "outputs": [],
   "source": [
    "data_sample=data.sample(n=sample_size,random_state=0)"
   ]
  },
  {
   "cell_type": "code",
   "execution_count": 20,
   "id": "5b90a49a-6162-4ce4-8a90-6104692aa492",
   "metadata": {},
   "outputs": [
    {
     "data": {
      "text/html": [
       "<div>\n",
       "<style scoped>\n",
       "    .dataframe tbody tr th:only-of-type {\n",
       "        vertical-align: middle;\n",
       "    }\n",
       "\n",
       "    .dataframe tbody tr th {\n",
       "        vertical-align: top;\n",
       "    }\n",
       "\n",
       "    .dataframe thead th {\n",
       "        text-align: right;\n",
       "    }\n",
       "</style>\n",
       "<table border=\"1\" class=\"dataframe\">\n",
       "  <thead>\n",
       "    <tr style=\"text-align: right;\">\n",
       "      <th></th>\n",
       "      <th>Order</th>\n",
       "      <th>PID</th>\n",
       "      <th>MS.SubClass</th>\n",
       "      <th>MS.Zoning</th>\n",
       "      <th>Lot.Frontage</th>\n",
       "      <th>Lot.Area</th>\n",
       "      <th>Street</th>\n",
       "      <th>Alley</th>\n",
       "      <th>Lot.Shape</th>\n",
       "      <th>Land.Contour</th>\n",
       "      <th>...</th>\n",
       "      <th>Pool.Area</th>\n",
       "      <th>Pool.QC</th>\n",
       "      <th>Fence</th>\n",
       "      <th>Misc.Feature</th>\n",
       "      <th>Misc.Val</th>\n",
       "      <th>Mo.Sold</th>\n",
       "      <th>Yr.Sold</th>\n",
       "      <th>Sale.Type</th>\n",
       "      <th>Sale.Condition</th>\n",
       "      <th>SalePrice</th>\n",
       "    </tr>\n",
       "  </thead>\n",
       "  <tbody>\n",
       "    <tr>\n",
       "      <th>2216</th>\n",
       "      <td>2217</td>\n",
       "      <td>909279080</td>\n",
       "      <td>50</td>\n",
       "      <td>RL</td>\n",
       "      <td>NaN</td>\n",
       "      <td>11275</td>\n",
       "      <td>Pave</td>\n",
       "      <td>NaN</td>\n",
       "      <td>IR1</td>\n",
       "      <td>HLS</td>\n",
       "      <td>...</td>\n",
       "      <td>0</td>\n",
       "      <td>NaN</td>\n",
       "      <td>NaN</td>\n",
       "      <td>NaN</td>\n",
       "      <td>0</td>\n",
       "      <td>3</td>\n",
       "      <td>2007</td>\n",
       "      <td>WD</td>\n",
       "      <td>Normal</td>\n",
       "      <td>220000</td>\n",
       "    </tr>\n",
       "    <tr>\n",
       "      <th>836</th>\n",
       "      <td>837</td>\n",
       "      <td>907126050</td>\n",
       "      <td>20</td>\n",
       "      <td>RL</td>\n",
       "      <td>65.0</td>\n",
       "      <td>9757</td>\n",
       "      <td>Pave</td>\n",
       "      <td>NaN</td>\n",
       "      <td>Reg</td>\n",
       "      <td>Low</td>\n",
       "      <td>...</td>\n",
       "      <td>0</td>\n",
       "      <td>NaN</td>\n",
       "      <td>NaN</td>\n",
       "      <td>NaN</td>\n",
       "      <td>0</td>\n",
       "      <td>10</td>\n",
       "      <td>2009</td>\n",
       "      <td>WD</td>\n",
       "      <td>Normal</td>\n",
       "      <td>143000</td>\n",
       "    </tr>\n",
       "    <tr>\n",
       "      <th>2396</th>\n",
       "      <td>2397</td>\n",
       "      <td>528144030</td>\n",
       "      <td>60</td>\n",
       "      <td>RL</td>\n",
       "      <td>86.0</td>\n",
       "      <td>11065</td>\n",
       "      <td>Pave</td>\n",
       "      <td>NaN</td>\n",
       "      <td>IR1</td>\n",
       "      <td>Lvl</td>\n",
       "      <td>...</td>\n",
       "      <td>0</td>\n",
       "      <td>NaN</td>\n",
       "      <td>NaN</td>\n",
       "      <td>NaN</td>\n",
       "      <td>0</td>\n",
       "      <td>10</td>\n",
       "      <td>2006</td>\n",
       "      <td>New</td>\n",
       "      <td>Partial</td>\n",
       "      <td>281000</td>\n",
       "    </tr>\n",
       "    <tr>\n",
       "      <th>1962</th>\n",
       "      <td>1963</td>\n",
       "      <td>535452060</td>\n",
       "      <td>20</td>\n",
       "      <td>RL</td>\n",
       "      <td>70.0</td>\n",
       "      <td>7000</td>\n",
       "      <td>Pave</td>\n",
       "      <td>NaN</td>\n",
       "      <td>Reg</td>\n",
       "      <td>Lvl</td>\n",
       "      <td>...</td>\n",
       "      <td>0</td>\n",
       "      <td>NaN</td>\n",
       "      <td>MnWw</td>\n",
       "      <td>NaN</td>\n",
       "      <td>0</td>\n",
       "      <td>4</td>\n",
       "      <td>2007</td>\n",
       "      <td>WD</td>\n",
       "      <td>Family</td>\n",
       "      <td>135000</td>\n",
       "    </tr>\n",
       "    <tr>\n",
       "      <th>305</th>\n",
       "      <td>306</td>\n",
       "      <td>911202100</td>\n",
       "      <td>50</td>\n",
       "      <td>C (all)</td>\n",
       "      <td>66.0</td>\n",
       "      <td>8712</td>\n",
       "      <td>Pave</td>\n",
       "      <td>Pave</td>\n",
       "      <td>Reg</td>\n",
       "      <td>HLS</td>\n",
       "      <td>...</td>\n",
       "      <td>0</td>\n",
       "      <td>NaN</td>\n",
       "      <td>NaN</td>\n",
       "      <td>NaN</td>\n",
       "      <td>0</td>\n",
       "      <td>1</td>\n",
       "      <td>2010</td>\n",
       "      <td>WD</td>\n",
       "      <td>Abnorml</td>\n",
       "      <td>102776</td>\n",
       "    </tr>\n",
       "    <tr>\n",
       "      <th>...</th>\n",
       "      <td>...</td>\n",
       "      <td>...</td>\n",
       "      <td>...</td>\n",
       "      <td>...</td>\n",
       "      <td>...</td>\n",
       "      <td>...</td>\n",
       "      <td>...</td>\n",
       "      <td>...</td>\n",
       "      <td>...</td>\n",
       "      <td>...</td>\n",
       "      <td>...</td>\n",
       "      <td>...</td>\n",
       "      <td>...</td>\n",
       "      <td>...</td>\n",
       "      <td>...</td>\n",
       "      <td>...</td>\n",
       "      <td>...</td>\n",
       "      <td>...</td>\n",
       "      <td>...</td>\n",
       "      <td>...</td>\n",
       "      <td>...</td>\n",
       "    </tr>\n",
       "    <tr>\n",
       "      <th>1516</th>\n",
       "      <td>1517</td>\n",
       "      <td>909131170</td>\n",
       "      <td>70</td>\n",
       "      <td>RH</td>\n",
       "      <td>NaN</td>\n",
       "      <td>12155</td>\n",
       "      <td>Pave</td>\n",
       "      <td>NaN</td>\n",
       "      <td>IR1</td>\n",
       "      <td>Lvl</td>\n",
       "      <td>...</td>\n",
       "      <td>0</td>\n",
       "      <td>NaN</td>\n",
       "      <td>NaN</td>\n",
       "      <td>NaN</td>\n",
       "      <td>0</td>\n",
       "      <td>3</td>\n",
       "      <td>2008</td>\n",
       "      <td>WD</td>\n",
       "      <td>Normal</td>\n",
       "      <td>140000</td>\n",
       "    </tr>\n",
       "    <tr>\n",
       "      <th>2209</th>\n",
       "      <td>2210</td>\n",
       "      <td>909275020</td>\n",
       "      <td>90</td>\n",
       "      <td>RH</td>\n",
       "      <td>82.0</td>\n",
       "      <td>7136</td>\n",
       "      <td>Pave</td>\n",
       "      <td>NaN</td>\n",
       "      <td>IR1</td>\n",
       "      <td>HLS</td>\n",
       "      <td>...</td>\n",
       "      <td>0</td>\n",
       "      <td>NaN</td>\n",
       "      <td>NaN</td>\n",
       "      <td>NaN</td>\n",
       "      <td>0</td>\n",
       "      <td>8</td>\n",
       "      <td>2007</td>\n",
       "      <td>WD</td>\n",
       "      <td>Normal</td>\n",
       "      <td>145000</td>\n",
       "    </tr>\n",
       "    <tr>\n",
       "      <th>493</th>\n",
       "      <td>494</td>\n",
       "      <td>528294050</td>\n",
       "      <td>80</td>\n",
       "      <td>RL</td>\n",
       "      <td>64.0</td>\n",
       "      <td>7848</td>\n",
       "      <td>Pave</td>\n",
       "      <td>NaN</td>\n",
       "      <td>IR1</td>\n",
       "      <td>Lvl</td>\n",
       "      <td>...</td>\n",
       "      <td>0</td>\n",
       "      <td>NaN</td>\n",
       "      <td>NaN</td>\n",
       "      <td>NaN</td>\n",
       "      <td>0</td>\n",
       "      <td>6</td>\n",
       "      <td>2009</td>\n",
       "      <td>WD</td>\n",
       "      <td>Normal</td>\n",
       "      <td>168000</td>\n",
       "    </tr>\n",
       "    <tr>\n",
       "      <th>874</th>\n",
       "      <td>875</td>\n",
       "      <td>907285050</td>\n",
       "      <td>60</td>\n",
       "      <td>RL</td>\n",
       "      <td>70.0</td>\n",
       "      <td>8750</td>\n",
       "      <td>Pave</td>\n",
       "      <td>NaN</td>\n",
       "      <td>Reg</td>\n",
       "      <td>Lvl</td>\n",
       "      <td>...</td>\n",
       "      <td>0</td>\n",
       "      <td>NaN</td>\n",
       "      <td>NaN</td>\n",
       "      <td>NaN</td>\n",
       "      <td>0</td>\n",
       "      <td>7</td>\n",
       "      <td>2009</td>\n",
       "      <td>WD</td>\n",
       "      <td>Normal</td>\n",
       "      <td>191000</td>\n",
       "    </tr>\n",
       "    <tr>\n",
       "      <th>891</th>\n",
       "      <td>892</td>\n",
       "      <td>908154040</td>\n",
       "      <td>20</td>\n",
       "      <td>RL</td>\n",
       "      <td>86.0</td>\n",
       "      <td>13286</td>\n",
       "      <td>Pave</td>\n",
       "      <td>NaN</td>\n",
       "      <td>IR1</td>\n",
       "      <td>Lvl</td>\n",
       "      <td>...</td>\n",
       "      <td>0</td>\n",
       "      <td>NaN</td>\n",
       "      <td>NaN</td>\n",
       "      <td>NaN</td>\n",
       "      <td>0</td>\n",
       "      <td>2</td>\n",
       "      <td>2009</td>\n",
       "      <td>WD</td>\n",
       "      <td>Normal</td>\n",
       "      <td>320000</td>\n",
       "    </tr>\n",
       "  </tbody>\n",
       "</table>\n",
       "<p>100 rows × 82 columns</p>\n",
       "</div>"
      ],
      "text/plain": [
       "      Order        PID  MS.SubClass MS.Zoning  Lot.Frontage  Lot.Area Street  \\\n",
       "2216   2217  909279080           50        RL           NaN     11275   Pave   \n",
       "836     837  907126050           20        RL          65.0      9757   Pave   \n",
       "2396   2397  528144030           60        RL          86.0     11065   Pave   \n",
       "1962   1963  535452060           20        RL          70.0      7000   Pave   \n",
       "305     306  911202100           50   C (all)          66.0      8712   Pave   \n",
       "...     ...        ...          ...       ...           ...       ...    ...   \n",
       "1516   1517  909131170           70        RH           NaN     12155   Pave   \n",
       "2209   2210  909275020           90        RH          82.0      7136   Pave   \n",
       "493     494  528294050           80        RL          64.0      7848   Pave   \n",
       "874     875  907285050           60        RL          70.0      8750   Pave   \n",
       "891     892  908154040           20        RL          86.0     13286   Pave   \n",
       "\n",
       "     Alley Lot.Shape Land.Contour  ... Pool.Area Pool.QC Fence Misc.Feature  \\\n",
       "2216   NaN       IR1          HLS  ...         0     NaN   NaN          NaN   \n",
       "836    NaN       Reg          Low  ...         0     NaN   NaN          NaN   \n",
       "2396   NaN       IR1          Lvl  ...         0     NaN   NaN          NaN   \n",
       "1962   NaN       Reg          Lvl  ...         0     NaN  MnWw          NaN   \n",
       "305   Pave       Reg          HLS  ...         0     NaN   NaN          NaN   \n",
       "...    ...       ...          ...  ...       ...     ...   ...          ...   \n",
       "1516   NaN       IR1          Lvl  ...         0     NaN   NaN          NaN   \n",
       "2209   NaN       IR1          HLS  ...         0     NaN   NaN          NaN   \n",
       "493    NaN       IR1          Lvl  ...         0     NaN   NaN          NaN   \n",
       "874    NaN       Reg          Lvl  ...         0     NaN   NaN          NaN   \n",
       "891    NaN       IR1          Lvl  ...         0     NaN   NaN          NaN   \n",
       "\n",
       "     Misc.Val Mo.Sold Yr.Sold Sale.Type  Sale.Condition  SalePrice  \n",
       "2216        0       3    2007       WD           Normal     220000  \n",
       "836         0      10    2009       WD           Normal     143000  \n",
       "2396        0      10    2006       New         Partial     281000  \n",
       "1962        0       4    2007       WD           Family     135000  \n",
       "305         0       1    2010       WD          Abnorml     102776  \n",
       "...       ...     ...     ...       ...             ...        ...  \n",
       "1516        0       3    2008       WD           Normal     140000  \n",
       "2209        0       8    2007       WD           Normal     145000  \n",
       "493         0       6    2009       WD           Normal     168000  \n",
       "874         0       7    2009       WD           Normal     191000  \n",
       "891         0       2    2009       WD           Normal     320000  \n",
       "\n",
       "[100 rows x 82 columns]"
      ]
     },
     "execution_count": 20,
     "metadata": {},
     "output_type": "execute_result"
    }
   ],
   "source": [
    "data_sample"
   ]
  },
  {
   "cell_type": "markdown",
   "id": "2db50239-15e2-4285-baf2-724eddba2bdb",
   "metadata": {},
   "source": [
    " "
   ]
  },
  {
   "cell_type": "code",
   "execution_count": 21,
   "id": "a160378e-1589-4f48-bcd2-bc7040f7d243",
   "metadata": {},
   "outputs": [],
   "source": [
    "sample_mean=data_sample[\"SalePrice\"].mean()  "
   ]
  },
  {
   "cell_type": "code",
   "execution_count": 22,
   "id": "6dcbf584-5a59-4431-88c3-9a0db5b0d34a",
   "metadata": {
    "scrolled": true
   },
   "outputs": [
    {
     "data": {
      "text/plain": [
       "183765.44"
      ]
     },
     "execution_count": 22,
     "metadata": {},
     "output_type": "execute_result"
    }
   ],
   "source": [
    "sample_mean                 # x - sample mean"
   ]
  },
  {
   "cell_type": "code",
   "execution_count": 23,
   "id": "c939d1fc-15f6-4213-a94f-60b16047fa47",
   "metadata": {},
   "outputs": [],
   "source": [
    "sample_std=data_sample[\"SalePrice\"].std()           "
   ]
  },
  {
   "cell_type": "code",
   "execution_count": 24,
   "id": "c5d77e0a-f2d3-43ca-8d43-6ef8c4863a25",
   "metadata": {},
   "outputs": [
    {
     "data": {
      "text/plain": [
       "73290.30689741709"
      ]
     },
     "execution_count": 24,
     "metadata": {},
     "output_type": "execute_result"
    }
   ],
   "source": [
    "sample_std                  #s  - sample standard deviation "
   ]
  },
  {
   "cell_type": "code",
   "execution_count": 25,
   "id": "7f48ed27-4474-43b5-afbd-6580dd9c714e",
   "metadata": {},
   "outputs": [],
   "source": [
    "from scipy import stats   # import library "
   ]
  },
  {
   "cell_type": "code",
   "execution_count": 26,
   "id": "5536f924-876a-4e27-8f8e-6f59211547c4",
   "metadata": {},
   "outputs": [],
   "source": [
    "z_critical = stats.norm.ppf(q=0.95)  # 90 % confidence "
   ]
  },
  {
   "cell_type": "code",
   "execution_count": 27,
   "id": "3028f9f8-a4ab-402b-b52c-8d3cd942524f",
   "metadata": {},
   "outputs": [
    {
     "data": {
      "text/plain": [
       "1.6448536269514722"
      ]
     },
     "execution_count": 27,
     "metadata": {},
     "output_type": "execute_result"
    }
   ],
   "source": [
    "z_critical  "
   ]
  },
  {
   "cell_type": "code",
   "execution_count": 28,
   "id": "db3012e5-1ffd-4bef-afe6-a9283ff3aec6",
   "metadata": {},
   "outputs": [],
   "source": [
    "margin_of_error = z_critical*(sample_std / np.sqrt(sample_size))"
   ]
  },
  {
   "cell_type": "code",
   "execution_count": 29,
   "id": "e1742392-d20e-46b2-971a-892d3f453b77",
   "metadata": {},
   "outputs": [
    {
     "data": {
      "text/plain": [
       "12055.1827120603"
      ]
     },
     "execution_count": 29,
     "metadata": {},
     "output_type": "execute_result"
    }
   ],
   "source": [
    "margin_of_error"
   ]
  },
  {
   "cell_type": "code",
   "execution_count": 30,
   "id": "da788440-85cd-49a8-99e4-2294e84471b1",
   "metadata": {},
   "outputs": [
    {
     "data": {
      "text/plain": [
       "(171710.2572879397, 195820.6227120603)"
      ]
     },
     "execution_count": 30,
     "metadata": {},
     "output_type": "execute_result"
    }
   ],
   "source": [
    "((sample_mean-margin_of_error),(sample_mean+margin_of_error))"
   ]
  },
  {
   "cell_type": "markdown",
   "id": "39a25baa-57b8-490b-9669-52f0256e3476",
   "metadata": {},
   "source": [
    "## the population mean must lie between the range 171710.2572879397 to 195820.6227120603 "
   ]
  },
  {
   "cell_type": "code",
   "execution_count": 31,
   "id": "f255d4d2-9b39-4241-aacd-671b7e9b3362",
   "metadata": {},
   "outputs": [
    {
     "data": {
      "text/plain": [
       "180796.0600682594"
      ]
     },
     "execution_count": 31,
     "metadata": {},
     "output_type": "execute_result"
    }
   ],
   "source": [
    "data[\"SalePrice\"].mean()"
   ]
  },
  {
   "cell_type": "code",
   "execution_count": 33,
   "id": "de095f50-054b-4d7c-a9e1-2557d0b9d046",
   "metadata": {},
   "outputs": [
    {
     "data": {
      "text/plain": [
       "183765.44"
      ]
     },
     "execution_count": 33,
     "metadata": {},
     "output_type": "execute_result"
    }
   ],
   "source": [
    "sample_mean"
   ]
  },
  {
   "cell_type": "markdown",
   "id": "60b47d93-2084-4c94-9ea0-8446225354b2",
   "metadata": {},
   "source": [
    "## Take another example with sample size of 200"
   ]
  },
  {
   "cell_type": "code",
   "execution_count": 34,
   "id": "8bca541a-e83a-4ac9-bcb1-9f07a6ff048e",
   "metadata": {},
   "outputs": [],
   "source": [
    "sampe_size2=200"
   ]
  },
  {
   "cell_type": "code",
   "execution_count": 35,
   "id": "aeb3208f-a675-4453-9467-72c5e6de5ed2",
   "metadata": {},
   "outputs": [],
   "source": [
    " data_sample2=data.sample(n=sampe_size2,random_state=0)"
   ]
  },
  {
   "cell_type": "code",
   "execution_count": 36,
   "id": "01f3ea43-f259-418e-84f7-af240c57fb84",
   "metadata": {},
   "outputs": [
    {
     "data": {
      "text/html": [
       "<div>\n",
       "<style scoped>\n",
       "    .dataframe tbody tr th:only-of-type {\n",
       "        vertical-align: middle;\n",
       "    }\n",
       "\n",
       "    .dataframe tbody tr th {\n",
       "        vertical-align: top;\n",
       "    }\n",
       "\n",
       "    .dataframe thead th {\n",
       "        text-align: right;\n",
       "    }\n",
       "</style>\n",
       "<table border=\"1\" class=\"dataframe\">\n",
       "  <thead>\n",
       "    <tr style=\"text-align: right;\">\n",
       "      <th></th>\n",
       "      <th>Order</th>\n",
       "      <th>PID</th>\n",
       "      <th>MS.SubClass</th>\n",
       "      <th>MS.Zoning</th>\n",
       "      <th>Lot.Frontage</th>\n",
       "      <th>Lot.Area</th>\n",
       "      <th>Street</th>\n",
       "      <th>Alley</th>\n",
       "      <th>Lot.Shape</th>\n",
       "      <th>Land.Contour</th>\n",
       "      <th>...</th>\n",
       "      <th>Pool.Area</th>\n",
       "      <th>Pool.QC</th>\n",
       "      <th>Fence</th>\n",
       "      <th>Misc.Feature</th>\n",
       "      <th>Misc.Val</th>\n",
       "      <th>Mo.Sold</th>\n",
       "      <th>Yr.Sold</th>\n",
       "      <th>Sale.Type</th>\n",
       "      <th>Sale.Condition</th>\n",
       "      <th>SalePrice</th>\n",
       "    </tr>\n",
       "  </thead>\n",
       "  <tbody>\n",
       "    <tr>\n",
       "      <th>2216</th>\n",
       "      <td>2217</td>\n",
       "      <td>909279080</td>\n",
       "      <td>50</td>\n",
       "      <td>RL</td>\n",
       "      <td>NaN</td>\n",
       "      <td>11275</td>\n",
       "      <td>Pave</td>\n",
       "      <td>NaN</td>\n",
       "      <td>IR1</td>\n",
       "      <td>HLS</td>\n",
       "      <td>...</td>\n",
       "      <td>0</td>\n",
       "      <td>NaN</td>\n",
       "      <td>NaN</td>\n",
       "      <td>NaN</td>\n",
       "      <td>0</td>\n",
       "      <td>3</td>\n",
       "      <td>2007</td>\n",
       "      <td>WD</td>\n",
       "      <td>Normal</td>\n",
       "      <td>220000</td>\n",
       "    </tr>\n",
       "    <tr>\n",
       "      <th>836</th>\n",
       "      <td>837</td>\n",
       "      <td>907126050</td>\n",
       "      <td>20</td>\n",
       "      <td>RL</td>\n",
       "      <td>65.0</td>\n",
       "      <td>9757</td>\n",
       "      <td>Pave</td>\n",
       "      <td>NaN</td>\n",
       "      <td>Reg</td>\n",
       "      <td>Low</td>\n",
       "      <td>...</td>\n",
       "      <td>0</td>\n",
       "      <td>NaN</td>\n",
       "      <td>NaN</td>\n",
       "      <td>NaN</td>\n",
       "      <td>0</td>\n",
       "      <td>10</td>\n",
       "      <td>2009</td>\n",
       "      <td>WD</td>\n",
       "      <td>Normal</td>\n",
       "      <td>143000</td>\n",
       "    </tr>\n",
       "    <tr>\n",
       "      <th>2396</th>\n",
       "      <td>2397</td>\n",
       "      <td>528144030</td>\n",
       "      <td>60</td>\n",
       "      <td>RL</td>\n",
       "      <td>86.0</td>\n",
       "      <td>11065</td>\n",
       "      <td>Pave</td>\n",
       "      <td>NaN</td>\n",
       "      <td>IR1</td>\n",
       "      <td>Lvl</td>\n",
       "      <td>...</td>\n",
       "      <td>0</td>\n",
       "      <td>NaN</td>\n",
       "      <td>NaN</td>\n",
       "      <td>NaN</td>\n",
       "      <td>0</td>\n",
       "      <td>10</td>\n",
       "      <td>2006</td>\n",
       "      <td>New</td>\n",
       "      <td>Partial</td>\n",
       "      <td>281000</td>\n",
       "    </tr>\n",
       "    <tr>\n",
       "      <th>1962</th>\n",
       "      <td>1963</td>\n",
       "      <td>535452060</td>\n",
       "      <td>20</td>\n",
       "      <td>RL</td>\n",
       "      <td>70.0</td>\n",
       "      <td>7000</td>\n",
       "      <td>Pave</td>\n",
       "      <td>NaN</td>\n",
       "      <td>Reg</td>\n",
       "      <td>Lvl</td>\n",
       "      <td>...</td>\n",
       "      <td>0</td>\n",
       "      <td>NaN</td>\n",
       "      <td>MnWw</td>\n",
       "      <td>NaN</td>\n",
       "      <td>0</td>\n",
       "      <td>4</td>\n",
       "      <td>2007</td>\n",
       "      <td>WD</td>\n",
       "      <td>Family</td>\n",
       "      <td>135000</td>\n",
       "    </tr>\n",
       "    <tr>\n",
       "      <th>305</th>\n",
       "      <td>306</td>\n",
       "      <td>911202100</td>\n",
       "      <td>50</td>\n",
       "      <td>C (all)</td>\n",
       "      <td>66.0</td>\n",
       "      <td>8712</td>\n",
       "      <td>Pave</td>\n",
       "      <td>Pave</td>\n",
       "      <td>Reg</td>\n",
       "      <td>HLS</td>\n",
       "      <td>...</td>\n",
       "      <td>0</td>\n",
       "      <td>NaN</td>\n",
       "      <td>NaN</td>\n",
       "      <td>NaN</td>\n",
       "      <td>0</td>\n",
       "      <td>1</td>\n",
       "      <td>2010</td>\n",
       "      <td>WD</td>\n",
       "      <td>Abnorml</td>\n",
       "      <td>102776</td>\n",
       "    </tr>\n",
       "    <tr>\n",
       "      <th>...</th>\n",
       "      <td>...</td>\n",
       "      <td>...</td>\n",
       "      <td>...</td>\n",
       "      <td>...</td>\n",
       "      <td>...</td>\n",
       "      <td>...</td>\n",
       "      <td>...</td>\n",
       "      <td>...</td>\n",
       "      <td>...</td>\n",
       "      <td>...</td>\n",
       "      <td>...</td>\n",
       "      <td>...</td>\n",
       "      <td>...</td>\n",
       "      <td>...</td>\n",
       "      <td>...</td>\n",
       "      <td>...</td>\n",
       "      <td>...</td>\n",
       "      <td>...</td>\n",
       "      <td>...</td>\n",
       "      <td>...</td>\n",
       "      <td>...</td>\n",
       "    </tr>\n",
       "    <tr>\n",
       "      <th>2223</th>\n",
       "      <td>2224</td>\n",
       "      <td>909428180</td>\n",
       "      <td>20</td>\n",
       "      <td>RL</td>\n",
       "      <td>NaN</td>\n",
       "      <td>25485</td>\n",
       "      <td>Pave</td>\n",
       "      <td>NaN</td>\n",
       "      <td>IR1</td>\n",
       "      <td>Lvl</td>\n",
       "      <td>...</td>\n",
       "      <td>0</td>\n",
       "      <td>NaN</td>\n",
       "      <td>NaN</td>\n",
       "      <td>NaN</td>\n",
       "      <td>0</td>\n",
       "      <td>5</td>\n",
       "      <td>2007</td>\n",
       "      <td>WD</td>\n",
       "      <td>Normal</td>\n",
       "      <td>201000</td>\n",
       "    </tr>\n",
       "    <tr>\n",
       "      <th>921</th>\n",
       "      <td>922</td>\n",
       "      <td>909276200</td>\n",
       "      <td>50</td>\n",
       "      <td>RL</td>\n",
       "      <td>130.0</td>\n",
       "      <td>9600</td>\n",
       "      <td>Pave</td>\n",
       "      <td>NaN</td>\n",
       "      <td>IR1</td>\n",
       "      <td>HLS</td>\n",
       "      <td>...</td>\n",
       "      <td>0</td>\n",
       "      <td>NaN</td>\n",
       "      <td>NaN</td>\n",
       "      <td>NaN</td>\n",
       "      <td>0</td>\n",
       "      <td>6</td>\n",
       "      <td>2009</td>\n",
       "      <td>WD</td>\n",
       "      <td>Normal</td>\n",
       "      <td>160000</td>\n",
       "    </tr>\n",
       "    <tr>\n",
       "      <th>385</th>\n",
       "      <td>386</td>\n",
       "      <td>527366030</td>\n",
       "      <td>60</td>\n",
       "      <td>FV</td>\n",
       "      <td>NaN</td>\n",
       "      <td>7500</td>\n",
       "      <td>Pave</td>\n",
       "      <td>NaN</td>\n",
       "      <td>Reg</td>\n",
       "      <td>Lvl</td>\n",
       "      <td>...</td>\n",
       "      <td>0</td>\n",
       "      <td>NaN</td>\n",
       "      <td>NaN</td>\n",
       "      <td>NaN</td>\n",
       "      <td>0</td>\n",
       "      <td>3</td>\n",
       "      <td>2009</td>\n",
       "      <td>WD</td>\n",
       "      <td>Normal</td>\n",
       "      <td>220000</td>\n",
       "    </tr>\n",
       "    <tr>\n",
       "      <th>2276</th>\n",
       "      <td>2277</td>\n",
       "      <td>921205070</td>\n",
       "      <td>60</td>\n",
       "      <td>RL</td>\n",
       "      <td>88.0</td>\n",
       "      <td>12665</td>\n",
       "      <td>Pave</td>\n",
       "      <td>NaN</td>\n",
       "      <td>IR1</td>\n",
       "      <td>Lvl</td>\n",
       "      <td>...</td>\n",
       "      <td>0</td>\n",
       "      <td>NaN</td>\n",
       "      <td>NaN</td>\n",
       "      <td>NaN</td>\n",
       "      <td>0</td>\n",
       "      <td>2</td>\n",
       "      <td>2007</td>\n",
       "      <td>WD</td>\n",
       "      <td>Normal</td>\n",
       "      <td>281213</td>\n",
       "    </tr>\n",
       "    <tr>\n",
       "      <th>1277</th>\n",
       "      <td>1278</td>\n",
       "      <td>535456050</td>\n",
       "      <td>90</td>\n",
       "      <td>RL</td>\n",
       "      <td>113.0</td>\n",
       "      <td>8513</td>\n",
       "      <td>Pave</td>\n",
       "      <td>NaN</td>\n",
       "      <td>Reg</td>\n",
       "      <td>Lvl</td>\n",
       "      <td>...</td>\n",
       "      <td>0</td>\n",
       "      <td>NaN</td>\n",
       "      <td>NaN</td>\n",
       "      <td>NaN</td>\n",
       "      <td>0</td>\n",
       "      <td>11</td>\n",
       "      <td>2008</td>\n",
       "      <td>WD</td>\n",
       "      <td>Abnorml</td>\n",
       "      <td>130000</td>\n",
       "    </tr>\n",
       "  </tbody>\n",
       "</table>\n",
       "<p>200 rows × 82 columns</p>\n",
       "</div>"
      ],
      "text/plain": [
       "      Order        PID  MS.SubClass MS.Zoning  Lot.Frontage  Lot.Area Street  \\\n",
       "2216   2217  909279080           50        RL           NaN     11275   Pave   \n",
       "836     837  907126050           20        RL          65.0      9757   Pave   \n",
       "2396   2397  528144030           60        RL          86.0     11065   Pave   \n",
       "1962   1963  535452060           20        RL          70.0      7000   Pave   \n",
       "305     306  911202100           50   C (all)          66.0      8712   Pave   \n",
       "...     ...        ...          ...       ...           ...       ...    ...   \n",
       "2223   2224  909428180           20        RL           NaN     25485   Pave   \n",
       "921     922  909276200           50        RL         130.0      9600   Pave   \n",
       "385     386  527366030           60        FV           NaN      7500   Pave   \n",
       "2276   2277  921205070           60        RL          88.0     12665   Pave   \n",
       "1277   1278  535456050           90        RL         113.0      8513   Pave   \n",
       "\n",
       "     Alley Lot.Shape Land.Contour  ... Pool.Area Pool.QC Fence Misc.Feature  \\\n",
       "2216   NaN       IR1          HLS  ...         0     NaN   NaN          NaN   \n",
       "836    NaN       Reg          Low  ...         0     NaN   NaN          NaN   \n",
       "2396   NaN       IR1          Lvl  ...         0     NaN   NaN          NaN   \n",
       "1962   NaN       Reg          Lvl  ...         0     NaN  MnWw          NaN   \n",
       "305   Pave       Reg          HLS  ...         0     NaN   NaN          NaN   \n",
       "...    ...       ...          ...  ...       ...     ...   ...          ...   \n",
       "2223   NaN       IR1          Lvl  ...         0     NaN   NaN          NaN   \n",
       "921    NaN       IR1          HLS  ...         0     NaN   NaN          NaN   \n",
       "385    NaN       Reg          Lvl  ...         0     NaN   NaN          NaN   \n",
       "2276   NaN       IR1          Lvl  ...         0     NaN   NaN          NaN   \n",
       "1277   NaN       Reg          Lvl  ...         0     NaN   NaN          NaN   \n",
       "\n",
       "     Misc.Val Mo.Sold Yr.Sold Sale.Type  Sale.Condition  SalePrice  \n",
       "2216        0       3    2007       WD           Normal     220000  \n",
       "836         0      10    2009       WD           Normal     143000  \n",
       "2396        0      10    2006       New         Partial     281000  \n",
       "1962        0       4    2007       WD           Family     135000  \n",
       "305         0       1    2010       WD          Abnorml     102776  \n",
       "...       ...     ...     ...       ...             ...        ...  \n",
       "2223        0       5    2007       WD           Normal     201000  \n",
       "921         0       6    2009       WD           Normal     160000  \n",
       "385         0       3    2009       WD           Normal     220000  \n",
       "2276        0       2    2007       WD           Normal     281213  \n",
       "1277        0      11    2008       WD          Abnorml     130000  \n",
       "\n",
       "[200 rows x 82 columns]"
      ]
     },
     "execution_count": 36,
     "metadata": {},
     "output_type": "execute_result"
    }
   ],
   "source": [
    "data_sample2"
   ]
  },
  {
   "cell_type": "code",
   "execution_count": 37,
   "id": "758fb99b-f425-4125-bac6-47f7c316688e",
   "metadata": {},
   "outputs": [],
   "source": [
    "sample_mean2=data_sample2[\"SalePrice\"].mean()"
   ]
  },
  {
   "cell_type": "code",
   "execution_count": 38,
   "id": "8e07e4cd-11a1-425e-8eea-f7247ab75301",
   "metadata": {},
   "outputs": [
    {
     "data": {
      "text/plain": [
       "186334.86"
      ]
     },
     "execution_count": 38,
     "metadata": {},
     "output_type": "execute_result"
    }
   ],
   "source": [
    "sample_mean2"
   ]
  },
  {
   "cell_type": "code",
   "execution_count": 39,
   "id": "60f64c3c-a6ba-4d2f-9686-2e49013f2a17",
   "metadata": {},
   "outputs": [],
   "source": [
    "sample_std2=data_sample2[\"SalePrice\"].std()"
   ]
  },
  {
   "cell_type": "code",
   "execution_count": 40,
   "id": "60e98083-8c58-4637-9afe-b32ad5f72d47",
   "metadata": {},
   "outputs": [
    {
     "data": {
      "text/plain": [
       "80847.0352921369"
      ]
     },
     "execution_count": 40,
     "metadata": {},
     "output_type": "execute_result"
    }
   ],
   "source": [
    "sample_std2"
   ]
  },
  {
   "cell_type": "code",
   "execution_count": 41,
   "id": "c578261e-7ad4-4dfc-960c-9284de59f639",
   "metadata": {},
   "outputs": [],
   "source": [
    "from scipy import stats"
   ]
  },
  {
   "cell_type": "code",
   "execution_count": 46,
   "id": "fe205912-5078-4edc-9f9b-0bc21566a62a",
   "metadata": {},
   "outputs": [],
   "source": [
    "z_critical2 =stats.norm.ppf(q=0.90)"
   ]
  },
  {
   "cell_type": "code",
   "execution_count": 47,
   "id": "5e55d950-86cf-4461-93dd-dcef67d21aa5",
   "metadata": {},
   "outputs": [
    {
     "data": {
      "text/plain": [
       "1.2815515655446004"
      ]
     },
     "execution_count": 47,
     "metadata": {},
     "output_type": "execute_result"
    }
   ],
   "source": [
    "z_critical2"
   ]
  },
  {
   "cell_type": "code",
   "execution_count": 48,
   "id": "4b8db502-63b1-4ddd-93c3-5efcabe223c1",
   "metadata": {},
   "outputs": [],
   "source": [
    "margin_of_error2=z_critical2*(sample_std2/np.sqrt(sampe_size2))"
   ]
  },
  {
   "cell_type": "code",
   "execution_count": 49,
   "id": "622d3f7c-4c85-4093-ac2f-fe7b32b5b5c7",
   "metadata": {},
   "outputs": [
    {
     "data": {
      "text/plain": [
       "7326.308232712558"
      ]
     },
     "execution_count": 49,
     "metadata": {},
     "output_type": "execute_result"
    }
   ],
   "source": [
    "margin_of_error2"
   ]
  },
  {
   "cell_type": "code",
   "execution_count": 50,
   "id": "cfd0633e-7cac-42a8-a8b1-78de78e62ae7",
   "metadata": {},
   "outputs": [
    {
     "data": {
      "text/plain": [
       "(179008.55176728743, 193661.16823271255)"
      ]
     },
     "execution_count": 50,
     "metadata": {},
     "output_type": "execute_result"
    }
   ],
   "source": [
    "((sample_mean2-margin_of_error2),(sample_mean2+margin_of_error2))"
   ]
  },
  {
   "cell_type": "markdown",
   "id": "1fcd751b-694c-482f-82cc-5679a19a0e67",
   "metadata": {},
   "source": [
    "## sample mean is lie between 179008.55176728743 to 193661.16823271255"
   ]
  },
  {
   "cell_type": "code",
   "execution_count": 51,
   "id": "b7f56b7d-0bff-4575-bce8-ece980b63c8f",
   "metadata": {},
   "outputs": [
    {
     "data": {
      "text/plain": [
       "180796.0600682594"
      ]
     },
     "execution_count": 51,
     "metadata": {},
     "output_type": "execute_result"
    }
   ],
   "source": [
    "data[\"SalePrice\"].mean()"
   ]
  },
  {
   "cell_type": "code",
   "execution_count": 53,
   "id": "992e858c-b012-4d0b-9dea-fd210b803a32",
   "metadata": {},
   "outputs": [
    {
     "data": {
      "text/plain": [
       "186334.86"
      ]
     },
     "execution_count": 53,
     "metadata": {},
     "output_type": "execute_result"
    }
   ],
   "source": [
    "sample_mean2"
   ]
  },
  {
   "cell_type": "code",
   "execution_count": null,
   "id": "b9f8f396-7422-4c4d-b99b-f20f3bb773a3",
   "metadata": {},
   "outputs": [],
   "source": []
  },
  {
   "cell_type": "markdown",
   "id": "df8b97b6-5adb-4383-89c2-80889d3b8819",
   "metadata": {},
   "source": [
    "# 3]Hyphothesis Testing   \n",
    "## null hyphothesis is always opposite to the alternate hyphothesis "
   ]
  },
  {
   "cell_type": "markdown",
   "id": "c45ec02d-f390-45ee-b3b4-2deab5df1a5d",
   "metadata": {},
   "source": [
    "### (Null Hypothesis) H0:        the average SalePrice of house is 175000 i.e u=175000\n",
    "### (Alternate Hypothesis) H1:        the average SalePrice of house is not 175000 i.e u /= 175000"
   ]
  },
  {
   "cell_type": "markdown",
   "id": "82083a1d-e11c-4fbb-8781-fe37bb70cbf6",
   "metadata": {},
   "source": [
    "## 1)1 sample Test `"
   ]
  },
  {
   "cell_type": "code",
   "execution_count": 54,
   "id": "0d3486b6-314f-40fe-a6b1-93036bf078eb",
   "metadata": {},
   "outputs": [],
   "source": [
    "import scipy.stats as stats"
   ]
  },
  {
   "cell_type": "code",
   "execution_count": 55,
   "id": "4635d2a0-4bc2-47ef-bfba-6d1dcc2ccc28",
   "metadata": {},
   "outputs": [
    {
     "name": "stdout",
     "output_type": "stream",
     "text": [
      "t-statistics=  3.9272834547730024\n",
      "p_value =  8.789231716327053e-05\n"
     ]
    }
   ],
   "source": [
    "t_statistic, p_value = stats.ttest_1samp(data.SalePrice,175000)\n",
    "print(\"t-statistics= \", t_statistic)\n",
    "print(\"p_value = \",p_value)"
   ]
  },
  {
   "cell_type": "markdown",
   "id": "d1a9df33-41ab-4190-a52f-38dfd6f6183b",
   "metadata": {},
   "source": [
    "##### p_value < alpha(0.5) == reject the hypothesis "
   ]
  },
  {
   "cell_type": "markdown",
   "id": "8bf6fe0f-ed90-4abd-956c-ac15ef5ddfb2",
   "metadata": {},
   "source": [
    "## we can see that the p value is less that the significance level(alpha) of 5% \n",
    "## hence we have enought evidence against the null hypothesis\n",
    "## in this case we reject the null pypothesis in favour of alternate hypothesis\n"
   ]
  },
  {
   "cell_type": "code",
   "execution_count": null,
   "id": "9c87c305-1380-4e10-9728-fd2bb915bb2b",
   "metadata": {},
   "outputs": [],
   "source": []
  },
  {
   "cell_type": "markdown",
   "id": "e17aaf83-b0e2-4747-87b8-92ef0999b9da",
   "metadata": {},
   "source": [
    "### Example 2"
   ]
  },
  {
   "cell_type": "markdown",
   "id": "dd43e1d7-b2d9-4c63-bd8b-9748bd18f781",
   "metadata": {},
   "source": [
    " "
   ]
  },
  {
   "cell_type": "markdown",
   "id": "4c4a5e28-6099-4ecb-b9ca-f97d307ac696",
   "metadata": {},
   "source": [
    "## H0: the average saleprice is 175000 i.e u <= 175000\n",
    "\n",
    "## H1: the average salprice is greter than 175000 i.e u > 175000"
   ]
  },
  {
   "cell_type": "code",
   "execution_count": 56,
   "id": "ff2c4e42-c9e8-43ad-814e-4fd11e552104",
   "metadata": {},
   "outputs": [
    {
     "name": "stdout",
     "output_type": "stream",
     "text": [
      "t_statistics =  3.9272834547730024\n",
      "P-value =  4.3946158581635266e-05\n"
     ]
    }
   ],
   "source": [
    "t_statistic,p_value = stats.ttest_1samp(data.SalePrice,175000,alternative=\"greater\")\n",
    "print(\"t_statistics = \", t_statistic)\n",
    "print(\"P-value = \" , p_value)"
   ]
  },
  {
   "cell_type": "markdown",
   "id": "a08a203a-6684-4691-bb1b-7ad04b404c82",
   "metadata": {},
   "source": [
    "##### p_value <  0.5 ---  reject the null  hypothesis  "
   ]
  },
  {
   "cell_type": "markdown",
   "id": "55f227a2-58cd-459f-b8dd-3ff616f0e3f1",
   "metadata": {},
   "source": [
    "## 2) 2-sample Test "
   ]
  },
  {
   "cell_type": "code",
   "execution_count": 57,
   "id": "e61929a7-85f7-4914-97f7-92ae6c8425b7",
   "metadata": {},
   "outputs": [
    {
     "data": {
      "text/plain": [
       "Sale.Condition\n",
       "Normal     2413\n",
       "Partial     245\n",
       "Abnorml     190\n",
       "Family       46\n",
       "Alloca       24\n",
       "AdjLand      12\n",
       "Name: count, dtype: int64"
      ]
     },
     "execution_count": 57,
     "metadata": {},
     "output_type": "execute_result"
    }
   ],
   "source": [
    "data['Sale.Condition'].value_counts()"
   ]
  },
  {
   "cell_type": "code",
   "execution_count": 58,
   "id": "40debc32-22ef-4bb0-b042-d13a98bb0fc2",
   "metadata": {},
   "outputs": [],
   "source": [
    "normal=data[data['Sale.Condition']== 'Normal']['SalePrice']"
   ]
  },
  {
   "cell_type": "code",
   "execution_count": 59,
   "id": "81592dcc-453b-441d-a929-162d5de6ac37",
   "metadata": {},
   "outputs": [],
   "source": [
    "partial=data[data['Sale.Condition']== 'Partial']['SalePrice']"
   ]
  },
  {
   "cell_type": "code",
   "execution_count": 60,
   "id": "590dd3c9-33dc-41c2-8166-21200bf16efc",
   "metadata": {},
   "outputs": [
    {
     "data": {
      "text/plain": [
       "TtestResult(statistic=-19.6793088005836, pvalue=1.3616391052601942e-80, df=2656.0)"
      ]
     },
     "execution_count": 60,
     "metadata": {},
     "output_type": "execute_result"
    }
   ],
   "source": [
    "stats.ttest_ind(normal,partial)"
   ]
  },
  {
   "cell_type": "markdown",
   "id": "e7013fa2-5774-484f-84a8-397a0e4bea24",
   "metadata": {},
   "source": [
    "#### p value < 0.5 # we reject the null hypothesis "
   ]
  },
  {
   "cell_type": "markdown",
   "id": "6cc690d6-f752-4f56-9477-45a1943acd05",
   "metadata": {},
   "source": [
    "### over here we can observed that the p-value is less than the signfificance level of 5%  \n",
    "### hence we have evidence against the null pypothesis and conclude that the means ale price of normal and partail condition homes are not same "
   ]
  },
  {
   "cell_type": "code",
   "execution_count": null,
   "id": "f7d7a583-36ee-480f-b0be-3eaeaee37d81",
   "metadata": {},
   "outputs": [],
   "source": []
  },
  {
   "cell_type": "markdown",
   "id": "2f0af96b-55b2-40e0-ada5-4b2ab87118d8",
   "metadata": {},
   "source": [
    "# 3)Anova Test-\n",
    "  ### Anova test is useful when sample size is more than 2\n"
   ]
  },
  {
   "cell_type": "markdown",
   "id": "b5134db9-afba-4f4d-84d8-abd5c4a2c7bb",
   "metadata": {},
   "source": [
    "## H0: u1=u2=u3  \n",
    "## H1: u1≠u2≠u3   "
   ]
  },
  {
   "cell_type": "code",
   "execution_count": 70,
   "id": "a901c5e6-3480-44e0-8a62-41bf8664f263",
   "metadata": {},
   "outputs": [],
   "source": [
    "import pandas as pd"
   ]
  },
  {
   "cell_type": "code",
   "execution_count": 71,
   "id": "45a3e505-acd0-420f-bf5c-98301f245f05",
   "metadata": {},
   "outputs": [],
   "source": [
    "df = pd.read_excel('Book2.xlsx')"
   ]
  },
  {
   "cell_type": "code",
   "execution_count": 72,
   "id": "d142332d-6ae0-4b85-8d56-56fabb975f86",
   "metadata": {},
   "outputs": [
    {
     "data": {
      "text/html": [
       "<div>\n",
       "<style scoped>\n",
       "    .dataframe tbody tr th:only-of-type {\n",
       "        vertical-align: middle;\n",
       "    }\n",
       "\n",
       "    .dataframe tbody tr th {\n",
       "        vertical-align: top;\n",
       "    }\n",
       "\n",
       "    .dataframe thead th {\n",
       "        text-align: right;\n",
       "    }\n",
       "</style>\n",
       "<table border=\"1\" class=\"dataframe\">\n",
       "  <thead>\n",
       "    <tr style=\"text-align: right;\">\n",
       "      <th></th>\n",
       "      <th>Observation</th>\n",
       "      <th>A</th>\n",
       "      <th>B</th>\n",
       "      <th>C</th>\n",
       "      <th>D</th>\n",
       "    </tr>\n",
       "  </thead>\n",
       "  <tbody>\n",
       "    <tr>\n",
       "      <th>0</th>\n",
       "      <td>1</td>\n",
       "      <td>8</td>\n",
       "      <td>12</td>\n",
       "      <td>18</td>\n",
       "      <td>13</td>\n",
       "    </tr>\n",
       "    <tr>\n",
       "      <th>1</th>\n",
       "      <td>2</td>\n",
       "      <td>10</td>\n",
       "      <td>11</td>\n",
       "      <td>12</td>\n",
       "      <td>9</td>\n",
       "    </tr>\n",
       "    <tr>\n",
       "      <th>2</th>\n",
       "      <td>3</td>\n",
       "      <td>12</td>\n",
       "      <td>9</td>\n",
       "      <td>16</td>\n",
       "      <td>12</td>\n",
       "    </tr>\n",
       "    <tr>\n",
       "      <th>3</th>\n",
       "      <td>4</td>\n",
       "      <td>8</td>\n",
       "      <td>14</td>\n",
       "      <td>6</td>\n",
       "      <td>16</td>\n",
       "    </tr>\n",
       "    <tr>\n",
       "      <th>4</th>\n",
       "      <td>5</td>\n",
       "      <td>7</td>\n",
       "      <td>4</td>\n",
       "      <td>8</td>\n",
       "      <td>15</td>\n",
       "    </tr>\n",
       "  </tbody>\n",
       "</table>\n",
       "</div>"
      ],
      "text/plain": [
       "   Observation   A   B   C   D\n",
       "0            1   8  12  18  13\n",
       "1            2  10  11  12   9\n",
       "2            3  12   9  16  12\n",
       "3            4   8  14   6  16\n",
       "4            5   7   4   8  15"
      ]
     },
     "execution_count": 72,
     "metadata": {},
     "output_type": "execute_result"
    }
   ],
   "source": [
    "df"
   ]
  },
  {
   "cell_type": "code",
   "execution_count": 73,
   "id": "fff20967-35a8-4621-b816-869d52690246",
   "metadata": {},
   "outputs": [
    {
     "data": {
      "text/plain": [
       "0     8\n",
       "1    10\n",
       "2    12\n",
       "3     8\n",
       "4     7\n",
       "Name: A, dtype: int64"
      ]
     },
     "execution_count": 73,
     "metadata": {},
     "output_type": "execute_result"
    }
   ],
   "source": [
    "df.iloc[:,1]"
   ]
  },
  {
   "cell_type": "code",
   "execution_count": 74,
   "id": "044a409d-f51d-40f4-8b88-acd894032630",
   "metadata": {},
   "outputs": [
    {
     "data": {
      "text/plain": [
       "0    12\n",
       "1    11\n",
       "2     9\n",
       "3    14\n",
       "4     4\n",
       "Name: B, dtype: int64"
      ]
     },
     "execution_count": 74,
     "metadata": {},
     "output_type": "execute_result"
    }
   ],
   "source": [
    "df.iloc[:,2]"
   ]
  },
  {
   "cell_type": "code",
   "execution_count": 75,
   "id": "a724d985-6f0d-469a-88b6-2a4c8a20ff50",
   "metadata": {},
   "outputs": [
    {
     "data": {
      "text/plain": [
       "F_onewayResult(statistic=1.2820512820512822, pvalue=0.3143594700488932)"
      ]
     },
     "execution_count": 75,
     "metadata": {},
     "output_type": "execute_result"
    }
   ],
   "source": [
    "import scipy.stats as stats          \n",
    "stats.f_oneway(df.iloc[:,1], df.iloc[:,2],df.iloc[:,3],df.iloc[:,4])  # funtion for perform anaova test "
   ]
  },
  {
   "cell_type": "markdown",
   "id": "eb465f11-7588-42c7-b337-adb60d14830d",
   "metadata": {},
   "source": [
    "#### p value > 0.05 # we accept the null hypothesis  "
   ]
  },
  {
   "cell_type": "markdown",
   "id": "ac2c026d-2d39-4a32-88ed-283065cabe45",
   "metadata": {},
   "source": [
    "### since p value is greter than 0.05 we fail to reject null hypothesis, there is no significant difference between samples "
   ]
  },
  {
   "cell_type": "code",
   "execution_count": null,
   "id": "bfc17d0d-78d2-48b3-913f-ec6cb9550a4e",
   "metadata": {},
   "outputs": [],
   "source": []
  },
  {
   "cell_type": "markdown",
   "id": "a0207cce-a80c-41fb-81e7-bd8ad8db7939",
   "metadata": {},
   "source": [
    "# 4)Chi Square Test "
   ]
  },
  {
   "cell_type": "code",
   "execution_count": null,
   "id": "4d34c392-499d-46ac-8bb1-d2a79000d820",
   "metadata": {},
   "outputs": [],
   "source": []
  },
  {
   "cell_type": "code",
   "execution_count": 76,
   "id": "6cd5b0f1-a660-46a0-b09d-005a844183f9",
   "metadata": {},
   "outputs": [],
   "source": [
    "import scipy.stats as stats\n",
    "import seaborn as sns\n",
    "import pandas as pd\n",
    "import numba as np"
   ]
  },
  {
   "cell_type": "code",
   "execution_count": 77,
   "id": "809753d1-eced-447a-8254-349fb0b127e4",
   "metadata": {},
   "outputs": [],
   "source": [
    "dataset=sns.load_dataset('tips')"
   ]
  },
  {
   "cell_type": "code",
   "execution_count": 78,
   "id": "ca18ccfb-5243-4add-9dfa-d66005a777b7",
   "metadata": {},
   "outputs": [
    {
     "data": {
      "text/html": [
       "<div>\n",
       "<style scoped>\n",
       "    .dataframe tbody tr th:only-of-type {\n",
       "        vertical-align: middle;\n",
       "    }\n",
       "\n",
       "    .dataframe tbody tr th {\n",
       "        vertical-align: top;\n",
       "    }\n",
       "\n",
       "    .dataframe thead th {\n",
       "        text-align: right;\n",
       "    }\n",
       "</style>\n",
       "<table border=\"1\" class=\"dataframe\">\n",
       "  <thead>\n",
       "    <tr style=\"text-align: right;\">\n",
       "      <th></th>\n",
       "      <th>total_bill</th>\n",
       "      <th>tip</th>\n",
       "      <th>sex</th>\n",
       "      <th>smoker</th>\n",
       "      <th>day</th>\n",
       "      <th>time</th>\n",
       "      <th>size</th>\n",
       "    </tr>\n",
       "  </thead>\n",
       "  <tbody>\n",
       "    <tr>\n",
       "      <th>0</th>\n",
       "      <td>16.99</td>\n",
       "      <td>1.01</td>\n",
       "      <td>Female</td>\n",
       "      <td>No</td>\n",
       "      <td>Sun</td>\n",
       "      <td>Dinner</td>\n",
       "      <td>2</td>\n",
       "    </tr>\n",
       "    <tr>\n",
       "      <th>1</th>\n",
       "      <td>10.34</td>\n",
       "      <td>1.66</td>\n",
       "      <td>Male</td>\n",
       "      <td>No</td>\n",
       "      <td>Sun</td>\n",
       "      <td>Dinner</td>\n",
       "      <td>3</td>\n",
       "    </tr>\n",
       "    <tr>\n",
       "      <th>2</th>\n",
       "      <td>21.01</td>\n",
       "      <td>3.50</td>\n",
       "      <td>Male</td>\n",
       "      <td>No</td>\n",
       "      <td>Sun</td>\n",
       "      <td>Dinner</td>\n",
       "      <td>3</td>\n",
       "    </tr>\n",
       "    <tr>\n",
       "      <th>3</th>\n",
       "      <td>23.68</td>\n",
       "      <td>3.31</td>\n",
       "      <td>Male</td>\n",
       "      <td>No</td>\n",
       "      <td>Sun</td>\n",
       "      <td>Dinner</td>\n",
       "      <td>2</td>\n",
       "    </tr>\n",
       "    <tr>\n",
       "      <th>4</th>\n",
       "      <td>24.59</td>\n",
       "      <td>3.61</td>\n",
       "      <td>Female</td>\n",
       "      <td>No</td>\n",
       "      <td>Sun</td>\n",
       "      <td>Dinner</td>\n",
       "      <td>4</td>\n",
       "    </tr>\n",
       "  </tbody>\n",
       "</table>\n",
       "</div>"
      ],
      "text/plain": [
       "   total_bill   tip     sex smoker  day    time  size\n",
       "0       16.99  1.01  Female     No  Sun  Dinner     2\n",
       "1       10.34  1.66    Male     No  Sun  Dinner     3\n",
       "2       21.01  3.50    Male     No  Sun  Dinner     3\n",
       "3       23.68  3.31    Male     No  Sun  Dinner     2\n",
       "4       24.59  3.61  Female     No  Sun  Dinner     4"
      ]
     },
     "execution_count": 78,
     "metadata": {},
     "output_type": "execute_result"
    }
   ],
   "source": [
    " dataset.head()"
   ]
  },
  {
   "cell_type": "markdown",
   "id": "ea90870d-df50-40e8-9409-22394f371bc4",
   "metadata": {},
   "source": [
    "## H0: the variables are independent, there is no relationship between two categorical variable \n",
    "## H1: the vairable are dependent, there is realtionship between two categoiracal variables."
   ]
  },
  {
   "cell_type": "code",
   "execution_count": 80,
   "id": "1a85031d-2796-4ba9-b96c-244f0c3f6b71",
   "metadata": {},
   "outputs": [],
   "source": [
    "## making cross table "
   ]
  },
  {
   "cell_type": "code",
   "execution_count": 83,
   "id": "f251188e-c9c1-41bf-9f54-1ba1f69e332a",
   "metadata": {},
   "outputs": [],
   "source": [
    "dataset_table=pd.crosstab(dataset['sex'],dataset['smoker'])       # cross table "
   ]
  },
  {
   "cell_type": "code",
   "execution_count": 84,
   "id": "5434753e-84d2-4d01-ad86-9c78bfb7acde",
   "metadata": {},
   "outputs": [
    {
     "data": {
      "text/html": [
       "<div>\n",
       "<style scoped>\n",
       "    .dataframe tbody tr th:only-of-type {\n",
       "        vertical-align: middle;\n",
       "    }\n",
       "\n",
       "    .dataframe tbody tr th {\n",
       "        vertical-align: top;\n",
       "    }\n",
       "\n",
       "    .dataframe thead th {\n",
       "        text-align: right;\n",
       "    }\n",
       "</style>\n",
       "<table border=\"1\" class=\"dataframe\">\n",
       "  <thead>\n",
       "    <tr style=\"text-align: right;\">\n",
       "      <th>smoker</th>\n",
       "      <th>Yes</th>\n",
       "      <th>No</th>\n",
       "    </tr>\n",
       "    <tr>\n",
       "      <th>sex</th>\n",
       "      <th></th>\n",
       "      <th></th>\n",
       "    </tr>\n",
       "  </thead>\n",
       "  <tbody>\n",
       "    <tr>\n",
       "      <th>Male</th>\n",
       "      <td>60</td>\n",
       "      <td>97</td>\n",
       "    </tr>\n",
       "    <tr>\n",
       "      <th>Female</th>\n",
       "      <td>33</td>\n",
       "      <td>54</td>\n",
       "    </tr>\n",
       "  </tbody>\n",
       "</table>\n",
       "</div>"
      ],
      "text/plain": [
       "smoker  Yes  No\n",
       "sex            \n",
       "Male     60  97\n",
       "Female   33  54"
      ]
     },
     "execution_count": 84,
     "metadata": {},
     "output_type": "execute_result"
    }
   ],
   "source": [
    "dataset_table          "
   ]
  },
  {
   "cell_type": "code",
   "execution_count": 85,
   "id": "3fd3b5bd-780c-46b7-bcaf-18c4a1f6a0b9",
   "metadata": {},
   "outputs": [
    {
     "data": {
      "text/plain": [
       "Chi2ContingencyResult(statistic=0.0, pvalue=1.0, dof=1, expected_freq=array([[59.84016393, 97.15983607],\n",
       "       [33.15983607, 53.84016393]]))"
      ]
     },
     "execution_count": 85,
     "metadata": {},
     "output_type": "execute_result"
    }
   ],
   "source": [
    "stats.chi2_contingency(dataset_table)"
   ]
  },
  {
   "cell_type": "markdown",
   "id": "0d3d45b7-6b5e-46c1-9138-37f759f6f2c6",
   "metadata": {},
   "source": [
    "#### pvalue(1.0) > 0.05  ---  accept the null hypothesis --"
   ]
  },
  {
   "cell_type": "markdown",
   "id": "80e41ca8-8ada-4628-8a3a-2b03b900500a",
   "metadata": {},
   "source": [
    "## There is no relationship between the sex column and smoker columns "
   ]
  },
  {
   "cell_type": "code",
   "execution_count": null,
   "id": "4e7ab895-3927-446c-b050-f1fbe15f558e",
   "metadata": {},
   "outputs": [],
   "source": []
  }
 ],
 "metadata": {
  "kernelspec": {
   "display_name": "Python 3 (ipykernel)",
   "language": "python",
   "name": "python3"
  },
  "language_info": {
   "codemirror_mode": {
    "name": "ipython",
    "version": 3
   },
   "file_extension": ".py",
   "mimetype": "text/x-python",
   "name": "python",
   "nbconvert_exporter": "python",
   "pygments_lexer": "ipython3",
   "version": "3.11.7"
  }
 },
 "nbformat": 4,
 "nbformat_minor": 5
}
